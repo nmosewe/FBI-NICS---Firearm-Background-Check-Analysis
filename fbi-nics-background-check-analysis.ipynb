{
  "nbformat": 4,
  "nbformat_minor": 0,
  "metadata": {
    "colab": {
      "name": "Neema Osewe Final Project.ipynb",
      "version": "0.3.2",
      "provenance": [],
      "collapsed_sections": []
    },
    "kernelspec": {
      "name": "python3",
      "display_name": "Python 3"
    }
  },
  "cells": [
    {
      "cell_type": "markdown",
      "metadata": {
        "id": "tIiwIFElfxAR",
        "colab_type": "text"
      },
      "source": [
        "# FBI NICS - Firearm Background Check Analysis"
      ]
    },
    {
      "cell_type": "markdown",
      "metadata": {
        "id": "GnBB3GtNpxWu",
        "colab_type": "text"
      },
      "source": [
        "The FBI's National Instant Criminal Background Check System determines the eligibility of a buyer to purchase a firearm based on their criminal record. Its numbers are widely used as a proxy for gun sales in a given period of time. It was mandated by the Brady Handgun Violence Prevention Act of 1993 and later launched by the FBI in November of 1998. This is when NICS began collecting data."
      ]
    },
    {
      "cell_type": "code",
      "metadata": {
        "id": "NP_hSUALfVOz",
        "colab_type": "code",
        "colab": {}
      },
      "source": [
        "import pandas as pd\n",
        "import numpy as np\n",
        "import matplotlib.pyplot as plt\n",
        "\n",
        "prod = pd.read_csv('nics-firearm-background-checks.csv', sep=',')\n"
      ],
      "execution_count": 0,
      "outputs": []
    },
    {
      "cell_type": "code",
      "metadata": {
        "id": "3K-ubQ6ov8DG",
        "colab_type": "code",
        "outputId": "02d09e8c-113e-4ffc-a35a-e9474021e510",
        "colab": {
          "base_uri": "https://localhost:8080/",
          "height": 163
        }
      },
      "source": [
        "prod.columns\n",
        "#print(prod.describe())"
      ],
      "execution_count": 38,
      "outputs": [
        {
          "output_type": "execute_result",
          "data": {
            "text/plain": [
              "Index(['month', 'state', 'permit', 'permit_recheck', 'handgun', 'long_gun',\n",
              "       'other', 'multiple', 'admin', 'prepawn_handgun', 'prepawn_long_gun',\n",
              "       'prepawn_other', 'redemption_handgun', 'redemption_long_gun',\n",
              "       'redemption_other', 'returned_handgun', 'returned_long_gun',\n",
              "       'returned_other', 'rentals_handgun', 'rentals_long_gun',\n",
              "       'private_sale_handgun', 'private_sale_long_gun', 'private_sale_other',\n",
              "       'return_to_seller_handgun', 'return_to_seller_long_gun',\n",
              "       'return_to_seller_other', 'totals'],\n",
              "      dtype='object')"
            ]
          },
          "metadata": {
            "tags": []
          },
          "execution_count": 38
        }
      ]
    },
    {
      "cell_type": "markdown",
      "metadata": {
        "id": "WHE8GnQGEBdR",
        "colab_type": "text"
      },
      "source": [
        "# NICS Data from April 2019"
      ]
    },
    {
      "cell_type": "code",
      "metadata": {
        "id": "tzZxxLl8rnzV",
        "colab_type": "code",
        "colab": {
          "base_uri": "https://localhost:8080/",
          "height": 960
        },
        "outputId": "50db4b42-f358-4037-aa73-73954da45f03"
      },
      "source": [
        "latest_info = prod.head(55)\n",
        "print(latest_info)\n"
      ],
      "execution_count": 2,
      "outputs": [
        {
          "output_type": "stream",
          "text": [
            "      month                 state  ...  return_to_seller_other  totals\n",
            "0   2019-04               Alabama  ...                     1.0   41146\n",
            "1   2019-04                Alaska  ...                     0.0    6505\n",
            "2   2019-04               Arizona  ...                     0.0   30222\n",
            "3   2019-04              Arkansas  ...                     0.0   15812\n",
            "4   2019-04            California  ...                     0.0  114466\n",
            "5   2019-04              Colorado  ...                     0.0   39433\n",
            "6   2019-04           Connecticut  ...                     0.0   15726\n",
            "7   2019-04              Delaware  ...                     0.0    3807\n",
            "8   2019-04  District of Columbia  ...                     0.0     409\n",
            "9   2019-04               Florida  ...                     0.0   93693\n",
            "10  2019-04               Georgia  ...                     0.0   40952\n",
            "11  2019-04                  Guam  ...                     0.0     150\n",
            "12  2019-04                Hawaii  ...                     0.0    1212\n",
            "13  2019-04                 Idaho  ...                     1.0   16004\n",
            "14  2019-04              Illinois  ...                     0.0  405464\n",
            "15  2019-04               Indiana  ...                     0.0  106096\n",
            "16  2019-04                  Iowa  ...                     0.0   15144\n",
            "17  2019-04                Kansas  ...                     0.0   11933\n",
            "18  2019-04              Kentucky  ...                     0.0  381411\n",
            "19  2019-04             Louisiana  ...                     0.0   19650\n",
            "20  2019-04                 Maine  ...                     0.0    7375\n",
            "21  2019-04       Mariana Islands  ...                     0.0      15\n",
            "22  2019-04              Maryland  ...                     0.0   12537\n",
            "23  2019-04         Massachusetts  ...                     0.0   17738\n",
            "24  2019-04              Michigan  ...                     1.0   40570\n",
            "25  2019-04             Minnesota  ...                     0.0   72720\n",
            "26  2019-04           Mississippi  ...                     0.0   15894\n",
            "27  2019-04              Missouri  ...                     0.0   35825\n",
            "28  2019-04               Montana  ...                     0.0    9419\n",
            "29  2019-04              Nebraska  ...                     0.0    5267\n",
            "30  2019-04                Nevada  ...                     0.0   10524\n",
            "31  2019-04         New Hampshire  ...                     0.0    9389\n",
            "32  2019-04            New Jersey  ...                     3.0    8173\n",
            "33  2019-04            New Mexico  ...                     0.0   12483\n",
            "34  2019-04              New York  ...                     0.0   31154\n",
            "35  2019-04        North Carolina  ...                     0.0   42651\n",
            "36  2019-04          North Dakota  ...                     0.0    5135\n",
            "37  2019-04                  Ohio  ...                     1.0   53819\n",
            "38  2019-04              Oklahoma  ...                     0.0   26528\n",
            "39  2019-04                Oregon  ...                     0.0   30299\n",
            "40  2019-04          Pennsylvania  ...                     0.0   79853\n",
            "41  2019-04           Puerto Rico  ...                     0.0    2427\n",
            "42  2019-04          Rhode Island  ...                     0.0    2175\n",
            "43  2019-04        South Carolina  ...                     0.0   24607\n",
            "44  2019-04          South Dakota  ...                     0.0    6581\n",
            "45  2019-04             Tennessee  ...                     0.0   48624\n",
            "46  2019-04                 Texas  ...                     0.0  106112\n",
            "47  2019-04                  Utah  ...                     0.0   77263\n",
            "48  2019-04               Vermont  ...                     0.0    3236\n",
            "49  2019-04        Virgin Islands  ...                     0.0     114\n",
            "50  2019-04              Virginia  ...                     0.0   35052\n",
            "51  2019-04            Washington  ...                     0.0   53377\n",
            "52  2019-04         West Virginia  ...                     0.0   15583\n",
            "53  2019-04             Wisconsin  ...                     0.0   38561\n",
            "54  2019-04               Wyoming  ...                     0.0    4821\n",
            "\n",
            "[55 rows x 27 columns]\n"
          ],
          "name": "stdout"
        }
      ]
    },
    {
      "cell_type": "markdown",
      "metadata": {
        "id": "8QkhCf3fEzwx",
        "colab_type": "text"
      },
      "source": [
        "## Average Number of Permits Checks for April 2019"
      ]
    },
    {
      "cell_type": "code",
      "metadata": {
        "id": "US1HTw4V2WD9",
        "colab_type": "code",
        "colab": {
          "base_uri": "https://localhost:8080/",
          "height": 33
        },
        "outputId": "3b84d6f7-8a86-43f8-f440-68c8cfa92034"
      },
      "source": [
        "average_permits = latest_info['permit'].mean()\n",
        "print(average_permits)"
      ],
      "execution_count": 12,
      "outputs": [
        {
          "output_type": "stream",
          "text": [
            "14872.127272727274\n"
          ],
          "name": "stdout"
        }
      ]
    },
    {
      "cell_type": "markdown",
      "metadata": {
        "id": "fJwqqB-HEMoP",
        "colab_type": "text"
      },
      "source": [
        "## States with the greatest number of permit checks April *2019*"
      ]
    },
    {
      "cell_type": "code",
      "metadata": {
        "id": "HWlSDwPv2FmZ",
        "colab_type": "code",
        "colab": {
          "base_uri": "https://localhost:8080/",
          "height": 335
        },
        "outputId": "f92d6534-34b8-48e8-97f7-84a5a60e9820"
      },
      "source": [
        "most_permits = latest_info[['state', 'permit']].sort_values(by = 'permit', ascending = False)\n",
        "top_permits = most_permits.head(10)\n",
        "top_permits"
      ],
      "execution_count": 3,
      "outputs": [
        {
          "output_type": "execute_result",
          "data": {
            "text/html": [
              "<div>\n",
              "<style scoped>\n",
              "    .dataframe tbody tr th:only-of-type {\n",
              "        vertical-align: middle;\n",
              "    }\n",
              "\n",
              "    .dataframe tbody tr th {\n",
              "        vertical-align: top;\n",
              "    }\n",
              "\n",
              "    .dataframe thead th {\n",
              "        text-align: right;\n",
              "    }\n",
              "</style>\n",
              "<table border=\"1\" class=\"dataframe\">\n",
              "  <thead>\n",
              "    <tr style=\"text-align: right;\">\n",
              "      <th></th>\n",
              "      <th>state</th>\n",
              "      <th>permit</th>\n",
              "    </tr>\n",
              "  </thead>\n",
              "  <tbody>\n",
              "    <tr>\n",
              "      <th>18</th>\n",
              "      <td>Kentucky</td>\n",
              "      <td>361715.0</td>\n",
              "    </tr>\n",
              "    <tr>\n",
              "      <th>4</th>\n",
              "      <td>California</td>\n",
              "      <td>46004.0</td>\n",
              "    </tr>\n",
              "    <tr>\n",
              "      <th>15</th>\n",
              "      <td>Indiana</td>\n",
              "      <td>41080.0</td>\n",
              "    </tr>\n",
              "    <tr>\n",
              "      <th>46</th>\n",
              "      <td>Texas</td>\n",
              "      <td>28638.0</td>\n",
              "    </tr>\n",
              "    <tr>\n",
              "      <th>35</th>\n",
              "      <td>North Carolina</td>\n",
              "      <td>27292.0</td>\n",
              "    </tr>\n",
              "    <tr>\n",
              "      <th>0</th>\n",
              "      <td>Alabama</td>\n",
              "      <td>26958.0</td>\n",
              "    </tr>\n",
              "    <tr>\n",
              "      <th>40</th>\n",
              "      <td>Pennsylvania</td>\n",
              "      <td>24075.0</td>\n",
              "    </tr>\n",
              "    <tr>\n",
              "      <th>24</th>\n",
              "      <td>Michigan</td>\n",
              "      <td>21511.0</td>\n",
              "    </tr>\n",
              "    <tr>\n",
              "      <th>10</th>\n",
              "      <td>Georgia</td>\n",
              "      <td>19573.0</td>\n",
              "    </tr>\n",
              "    <tr>\n",
              "      <th>9</th>\n",
              "      <td>Florida</td>\n",
              "      <td>18613.0</td>\n",
              "    </tr>\n",
              "  </tbody>\n",
              "</table>\n",
              "</div>"
            ],
            "text/plain": [
              "             state    permit\n",
              "18        Kentucky  361715.0\n",
              "4       California   46004.0\n",
              "15         Indiana   41080.0\n",
              "46           Texas   28638.0\n",
              "35  North Carolina   27292.0\n",
              "0          Alabama   26958.0\n",
              "40    Pennsylvania   24075.0\n",
              "24        Michigan   21511.0\n",
              "10         Georgia   19573.0\n",
              "9          Florida   18613.0"
            ]
          },
          "metadata": {
            "tags": []
          },
          "execution_count": 3
        }
      ]
    },
    {
      "cell_type": "markdown",
      "metadata": {
        "id": "VhCBH8r2YQNm",
        "colab_type": "text"
      },
      "source": [
        "## States with the fewest number of permit checks April *2019*"
      ]
    },
    {
      "cell_type": "code",
      "metadata": {
        "id": "JEAI-yI5YPly",
        "colab_type": "code",
        "colab": {
          "base_uri": "https://localhost:8080/",
          "height": 335
        },
        "outputId": "1d7d3201-8a08-4545-9261-4fd712d82467"
      },
      "source": [
        "least_permits = most_permits.tail(10)\n",
        "least_permits"
      ],
      "execution_count": 4,
      "outputs": [
        {
          "output_type": "execute_result",
          "data": {
            "text/html": [
              "<div>\n",
              "<style scoped>\n",
              "    .dataframe tbody tr th:only-of-type {\n",
              "        vertical-align: middle;\n",
              "    }\n",
              "\n",
              "    .dataframe tbody tr th {\n",
              "        vertical-align: top;\n",
              "    }\n",
              "\n",
              "    .dataframe thead th {\n",
              "        text-align: right;\n",
              "    }\n",
              "</style>\n",
              "<table border=\"1\" class=\"dataframe\">\n",
              "  <thead>\n",
              "    <tr style=\"text-align: right;\">\n",
              "      <th></th>\n",
              "      <th>state</th>\n",
              "      <th>permit</th>\n",
              "    </tr>\n",
              "  </thead>\n",
              "  <tbody>\n",
              "    <tr>\n",
              "      <th>36</th>\n",
              "      <td>North Dakota</td>\n",
              "      <td>438.0</td>\n",
              "    </tr>\n",
              "    <tr>\n",
              "      <th>8</th>\n",
              "      <td>District of Columbia</td>\n",
              "      <td>282.0</td>\n",
              "    </tr>\n",
              "    <tr>\n",
              "      <th>1</th>\n",
              "      <td>Alaska</td>\n",
              "      <td>243.0</td>\n",
              "    </tr>\n",
              "    <tr>\n",
              "      <th>49</th>\n",
              "      <td>Virgin Islands</td>\n",
              "      <td>82.0</td>\n",
              "    </tr>\n",
              "    <tr>\n",
              "      <th>21</th>\n",
              "      <td>Mariana Islands</td>\n",
              "      <td>0.0</td>\n",
              "    </tr>\n",
              "    <tr>\n",
              "      <th>11</th>\n",
              "      <td>Guam</td>\n",
              "      <td>0.0</td>\n",
              "    </tr>\n",
              "    <tr>\n",
              "      <th>48</th>\n",
              "      <td>Vermont</td>\n",
              "      <td>0.0</td>\n",
              "    </tr>\n",
              "    <tr>\n",
              "      <th>32</th>\n",
              "      <td>New Jersey</td>\n",
              "      <td>0.0</td>\n",
              "    </tr>\n",
              "    <tr>\n",
              "      <th>42</th>\n",
              "      <td>Rhode Island</td>\n",
              "      <td>0.0</td>\n",
              "    </tr>\n",
              "    <tr>\n",
              "      <th>41</th>\n",
              "      <td>Puerto Rico</td>\n",
              "      <td>0.0</td>\n",
              "    </tr>\n",
              "  </tbody>\n",
              "</table>\n",
              "</div>"
            ],
            "text/plain": [
              "                   state  permit\n",
              "36          North Dakota   438.0\n",
              "8   District of Columbia   282.0\n",
              "1                 Alaska   243.0\n",
              "49        Virgin Islands    82.0\n",
              "21       Mariana Islands     0.0\n",
              "11                  Guam     0.0\n",
              "48               Vermont     0.0\n",
              "32            New Jersey     0.0\n",
              "42          Rhode Island     0.0\n",
              "41           Puerto Rico     0.0"
            ]
          },
          "metadata": {
            "tags": []
          },
          "execution_count": 4
        }
      ]
    },
    {
      "cell_type": "markdown",
      "metadata": {
        "id": "VlHEz3Ho44lD",
        "colab_type": "text"
      },
      "source": [
        "Permits, however, are not a good measure of gun sales because not all states require one to purchase a firearm."
      ]
    },
    {
      "cell_type": "markdown",
      "metadata": {
        "id": "NmvZHPiW-79y",
        "colab_type": "text"
      },
      "source": [
        "## Average number of total gun background checks April 2019"
      ]
    },
    {
      "cell_type": "code",
      "metadata": {
        "id": "_IASlQSj-wcV",
        "colab_type": "code",
        "colab": {
          "base_uri": "https://localhost:8080/",
          "height": 33
        },
        "outputId": "333730eb-879a-4496-bbef-0b47d0082444"
      },
      "source": [
        "average_checks = latest_info['totals'].mean()\n",
        "print(average_checks)"
      ],
      "execution_count": 19,
      "outputs": [
        {
          "output_type": "stream",
          "text": [
            "41911.56363636364\n"
          ],
          "name": "stdout"
        }
      ]
    },
    {
      "cell_type": "markdown",
      "metadata": {
        "id": "kRk2CAVmEUM9",
        "colab_type": "text"
      },
      "source": [
        "## States with the greatest number of total gun background checks April 2019\n",
        "\n"
      ]
    },
    {
      "cell_type": "code",
      "metadata": {
        "id": "DKOVEubw2Sn0",
        "colab_type": "code",
        "colab": {
          "base_uri": "https://localhost:8080/",
          "height": 335
        },
        "outputId": "9a7bc5bc-41ce-455d-92b1-bdb6bbcc82ad"
      },
      "source": [
        "most_totals = latest_info[['state','totals']].sort_values(by = 'totals', ascending = False)\n",
        "most_totals.head(10)"
      ],
      "execution_count": 5,
      "outputs": [
        {
          "output_type": "execute_result",
          "data": {
            "text/html": [
              "<div>\n",
              "<style scoped>\n",
              "    .dataframe tbody tr th:only-of-type {\n",
              "        vertical-align: middle;\n",
              "    }\n",
              "\n",
              "    .dataframe tbody tr th {\n",
              "        vertical-align: top;\n",
              "    }\n",
              "\n",
              "    .dataframe thead th {\n",
              "        text-align: right;\n",
              "    }\n",
              "</style>\n",
              "<table border=\"1\" class=\"dataframe\">\n",
              "  <thead>\n",
              "    <tr style=\"text-align: right;\">\n",
              "      <th></th>\n",
              "      <th>state</th>\n",
              "      <th>totals</th>\n",
              "    </tr>\n",
              "  </thead>\n",
              "  <tbody>\n",
              "    <tr>\n",
              "      <th>14</th>\n",
              "      <td>Illinois</td>\n",
              "      <td>405464</td>\n",
              "    </tr>\n",
              "    <tr>\n",
              "      <th>18</th>\n",
              "      <td>Kentucky</td>\n",
              "      <td>381411</td>\n",
              "    </tr>\n",
              "    <tr>\n",
              "      <th>4</th>\n",
              "      <td>California</td>\n",
              "      <td>114466</td>\n",
              "    </tr>\n",
              "    <tr>\n",
              "      <th>46</th>\n",
              "      <td>Texas</td>\n",
              "      <td>106112</td>\n",
              "    </tr>\n",
              "    <tr>\n",
              "      <th>15</th>\n",
              "      <td>Indiana</td>\n",
              "      <td>106096</td>\n",
              "    </tr>\n",
              "    <tr>\n",
              "      <th>9</th>\n",
              "      <td>Florida</td>\n",
              "      <td>93693</td>\n",
              "    </tr>\n",
              "    <tr>\n",
              "      <th>40</th>\n",
              "      <td>Pennsylvania</td>\n",
              "      <td>79853</td>\n",
              "    </tr>\n",
              "    <tr>\n",
              "      <th>47</th>\n",
              "      <td>Utah</td>\n",
              "      <td>77263</td>\n",
              "    </tr>\n",
              "    <tr>\n",
              "      <th>25</th>\n",
              "      <td>Minnesota</td>\n",
              "      <td>72720</td>\n",
              "    </tr>\n",
              "    <tr>\n",
              "      <th>37</th>\n",
              "      <td>Ohio</td>\n",
              "      <td>53819</td>\n",
              "    </tr>\n",
              "  </tbody>\n",
              "</table>\n",
              "</div>"
            ],
            "text/plain": [
              "           state  totals\n",
              "14      Illinois  405464\n",
              "18      Kentucky  381411\n",
              "4     California  114466\n",
              "46         Texas  106112\n",
              "15       Indiana  106096\n",
              "9        Florida   93693\n",
              "40  Pennsylvania   79853\n",
              "47          Utah   77263\n",
              "25     Minnesota   72720\n",
              "37          Ohio   53819"
            ]
          },
          "metadata": {
            "tags": []
          },
          "execution_count": 5
        }
      ]
    },
    {
      "cell_type": "markdown",
      "metadata": {
        "id": "9GWIU2KOY8Sj",
        "colab_type": "text"
      },
      "source": [
        "## States with the fewest number of total gun background checks April 2019\n"
      ]
    },
    {
      "cell_type": "code",
      "metadata": {
        "id": "IOHFPwpFY_0I",
        "colab_type": "code",
        "colab": {
          "base_uri": "https://localhost:8080/",
          "height": 335
        },
        "outputId": "a11d8ced-a9df-48f9-fe31-6705d5a7cfb6"
      },
      "source": [
        "most_totals.tail(10)"
      ],
      "execution_count": 6,
      "outputs": [
        {
          "output_type": "execute_result",
          "data": {
            "text/html": [
              "<div>\n",
              "<style scoped>\n",
              "    .dataframe tbody tr th:only-of-type {\n",
              "        vertical-align: middle;\n",
              "    }\n",
              "\n",
              "    .dataframe tbody tr th {\n",
              "        vertical-align: top;\n",
              "    }\n",
              "\n",
              "    .dataframe thead th {\n",
              "        text-align: right;\n",
              "    }\n",
              "</style>\n",
              "<table border=\"1\" class=\"dataframe\">\n",
              "  <thead>\n",
              "    <tr style=\"text-align: right;\">\n",
              "      <th></th>\n",
              "      <th>state</th>\n",
              "      <th>totals</th>\n",
              "    </tr>\n",
              "  </thead>\n",
              "  <tbody>\n",
              "    <tr>\n",
              "      <th>54</th>\n",
              "      <td>Wyoming</td>\n",
              "      <td>4821</td>\n",
              "    </tr>\n",
              "    <tr>\n",
              "      <th>7</th>\n",
              "      <td>Delaware</td>\n",
              "      <td>3807</td>\n",
              "    </tr>\n",
              "    <tr>\n",
              "      <th>48</th>\n",
              "      <td>Vermont</td>\n",
              "      <td>3236</td>\n",
              "    </tr>\n",
              "    <tr>\n",
              "      <th>41</th>\n",
              "      <td>Puerto Rico</td>\n",
              "      <td>2427</td>\n",
              "    </tr>\n",
              "    <tr>\n",
              "      <th>42</th>\n",
              "      <td>Rhode Island</td>\n",
              "      <td>2175</td>\n",
              "    </tr>\n",
              "    <tr>\n",
              "      <th>12</th>\n",
              "      <td>Hawaii</td>\n",
              "      <td>1212</td>\n",
              "    </tr>\n",
              "    <tr>\n",
              "      <th>8</th>\n",
              "      <td>District of Columbia</td>\n",
              "      <td>409</td>\n",
              "    </tr>\n",
              "    <tr>\n",
              "      <th>11</th>\n",
              "      <td>Guam</td>\n",
              "      <td>150</td>\n",
              "    </tr>\n",
              "    <tr>\n",
              "      <th>49</th>\n",
              "      <td>Virgin Islands</td>\n",
              "      <td>114</td>\n",
              "    </tr>\n",
              "    <tr>\n",
              "      <th>21</th>\n",
              "      <td>Mariana Islands</td>\n",
              "      <td>15</td>\n",
              "    </tr>\n",
              "  </tbody>\n",
              "</table>\n",
              "</div>"
            ],
            "text/plain": [
              "                   state  totals\n",
              "54               Wyoming    4821\n",
              "7               Delaware    3807\n",
              "48               Vermont    3236\n",
              "41           Puerto Rico    2427\n",
              "42          Rhode Island    2175\n",
              "12                Hawaii    1212\n",
              "8   District of Columbia     409\n",
              "11                  Guam     150\n",
              "49        Virgin Islands     114\n",
              "21       Mariana Islands      15"
            ]
          },
          "metadata": {
            "tags": []
          },
          "execution_count": 6
        }
      ]
    },
    {
      "cell_type": "markdown",
      "metadata": {
        "id": "ZFlSvxjXE6d_",
        "colab_type": "text"
      },
      "source": [
        "#Regulation"
      ]
    },
    {
      "cell_type": "markdown",
      "metadata": {
        "id": "647edHLfE-UQ",
        "colab_type": "text"
      },
      "source": [
        "##Top 10 states with the strictest regulation"
      ]
    },
    {
      "cell_type": "code",
      "metadata": {
        "id": "WDxXcI902apR",
        "colab_type": "code",
        "colab": {
          "base_uri": "https://localhost:8080/",
          "height": 196
        },
        "outputId": "88e8d862-12ae-42cc-b366-bd5f4bf84fa3"
      },
      "source": [
        "strict_states = latest_info[\n",
        "\t(latest_info['state'] == 'California') | \n",
        "\t(latest_info['state'] == 'New Jersey') |\n",
        "\t(latest_info['state'] == 'Connecticut') | \n",
        "\t(latest_info['state'] == 'Massachusetts') |\n",
        "\t(latest_info['state'] == 'New York') |\n",
        "\t(latest_info['state'] == 'Hawaii') |\n",
        "\t(latest_info['state'] == 'Maryland') |\n",
        "\t(latest_info['state'] == 'Rhode Island') |\n",
        "\t(latest_info['state'] == 'Illinois') |\t\n",
        "\t(latest_info['state'] == 'Delaware')\n",
        "]\n",
        "\n",
        "\n",
        "strict_states['state']"
      ],
      "execution_count": 7,
      "outputs": [
        {
          "output_type": "execute_result",
          "data": {
            "text/plain": [
              "4        California\n",
              "6       Connecticut\n",
              "7          Delaware\n",
              "12           Hawaii\n",
              "14         Illinois\n",
              "22         Maryland\n",
              "23    Massachusetts\n",
              "32       New Jersey\n",
              "34         New York\n",
              "42     Rhode Island\n",
              "Name: state, dtype: object"
            ]
          },
          "metadata": {
            "tags": []
          },
          "execution_count": 7
        }
      ]
    },
    {
      "cell_type": "markdown",
      "metadata": {
        "id": "OBaG7m2ZF4Mk",
        "colab_type": "text"
      },
      "source": [
        "## Top 10 states with most lax regulation"
      ]
    },
    {
      "cell_type": "code",
      "metadata": {
        "id": "L6PPJLaF2gU_",
        "colab_type": "code",
        "colab": {
          "base_uri": "https://localhost:8080/",
          "height": 196
        },
        "outputId": "018b2472-4b0c-4076-95de-409534ce949c"
      },
      "source": [
        "lax_states = latest_info[\n",
        "\t(latest_info['state'] == 'Utah') | \n",
        "\t(latest_info['state'] == 'Alaska') |\n",
        "\t(latest_info['state'] == 'Arizona') | \n",
        "\t(latest_info['state'] == 'Oklahoma') |\n",
        "\t(latest_info['state'] == 'North Dakota') |\n",
        "\t(latest_info['state'] == 'Montana') |\n",
        "\t(latest_info['state'] == 'Louisiana') |\n",
        "\t(latest_info['state'] == 'Kentucky') |\t\n",
        "\t(latest_info['state'] == 'Idaho') |\n",
        "\t(latest_info['state'] == 'Wisconsin')\n",
        "]\n",
        "\n",
        "lax_states['state']"
      ],
      "execution_count": 8,
      "outputs": [
        {
          "output_type": "execute_result",
          "data": {
            "text/plain": [
              "1           Alaska\n",
              "2          Arizona\n",
              "13           Idaho\n",
              "18        Kentucky\n",
              "19       Louisiana\n",
              "28         Montana\n",
              "36    North Dakota\n",
              "38        Oklahoma\n",
              "47            Utah\n",
              "53       Wisconsin\n",
              "Name: state, dtype: object"
            ]
          },
          "metadata": {
            "tags": []
          },
          "execution_count": 8
        }
      ]
    },
    {
      "cell_type": "markdown",
      "metadata": {
        "id": "8wxnoMJ6FiwK",
        "colab_type": "text"
      },
      "source": [
        "## Total gun background checks in strict states"
      ]
    },
    {
      "cell_type": "code",
      "metadata": {
        "id": "0RPzH3iI3VZ4",
        "colab_type": "code",
        "colab": {
          "base_uri": "https://localhost:8080/",
          "height": 335
        },
        "outputId": "28d47289-53cc-4e1c-e9e8-b9415d16c77f"
      },
      "source": [
        "strict_totals = strict_states[['state', 'totals']].sort_values(by = 'totals', ascending = False)\n",
        "strict_totals"
      ],
      "execution_count": 9,
      "outputs": [
        {
          "output_type": "execute_result",
          "data": {
            "text/html": [
              "<div>\n",
              "<style scoped>\n",
              "    .dataframe tbody tr th:only-of-type {\n",
              "        vertical-align: middle;\n",
              "    }\n",
              "\n",
              "    .dataframe tbody tr th {\n",
              "        vertical-align: top;\n",
              "    }\n",
              "\n",
              "    .dataframe thead th {\n",
              "        text-align: right;\n",
              "    }\n",
              "</style>\n",
              "<table border=\"1\" class=\"dataframe\">\n",
              "  <thead>\n",
              "    <tr style=\"text-align: right;\">\n",
              "      <th></th>\n",
              "      <th>state</th>\n",
              "      <th>totals</th>\n",
              "    </tr>\n",
              "  </thead>\n",
              "  <tbody>\n",
              "    <tr>\n",
              "      <th>14</th>\n",
              "      <td>Illinois</td>\n",
              "      <td>405464</td>\n",
              "    </tr>\n",
              "    <tr>\n",
              "      <th>4</th>\n",
              "      <td>California</td>\n",
              "      <td>114466</td>\n",
              "    </tr>\n",
              "    <tr>\n",
              "      <th>34</th>\n",
              "      <td>New York</td>\n",
              "      <td>31154</td>\n",
              "    </tr>\n",
              "    <tr>\n",
              "      <th>23</th>\n",
              "      <td>Massachusetts</td>\n",
              "      <td>17738</td>\n",
              "    </tr>\n",
              "    <tr>\n",
              "      <th>6</th>\n",
              "      <td>Connecticut</td>\n",
              "      <td>15726</td>\n",
              "    </tr>\n",
              "    <tr>\n",
              "      <th>22</th>\n",
              "      <td>Maryland</td>\n",
              "      <td>12537</td>\n",
              "    </tr>\n",
              "    <tr>\n",
              "      <th>32</th>\n",
              "      <td>New Jersey</td>\n",
              "      <td>8173</td>\n",
              "    </tr>\n",
              "    <tr>\n",
              "      <th>7</th>\n",
              "      <td>Delaware</td>\n",
              "      <td>3807</td>\n",
              "    </tr>\n",
              "    <tr>\n",
              "      <th>42</th>\n",
              "      <td>Rhode Island</td>\n",
              "      <td>2175</td>\n",
              "    </tr>\n",
              "    <tr>\n",
              "      <th>12</th>\n",
              "      <td>Hawaii</td>\n",
              "      <td>1212</td>\n",
              "    </tr>\n",
              "  </tbody>\n",
              "</table>\n",
              "</div>"
            ],
            "text/plain": [
              "            state  totals\n",
              "14       Illinois  405464\n",
              "4      California  114466\n",
              "34       New York   31154\n",
              "23  Massachusetts   17738\n",
              "6     Connecticut   15726\n",
              "22       Maryland   12537\n",
              "32     New Jersey    8173\n",
              "7        Delaware    3807\n",
              "42   Rhode Island    2175\n",
              "12         Hawaii    1212"
            ]
          },
          "metadata": {
            "tags": []
          },
          "execution_count": 9
        }
      ]
    },
    {
      "cell_type": "markdown",
      "metadata": {
        "id": "lWaDp_poGXoX",
        "colab_type": "text"
      },
      "source": [
        "## Total gun background checks in lax states"
      ]
    },
    {
      "cell_type": "code",
      "metadata": {
        "id": "SuJG2mTrGPPp",
        "colab_type": "code",
        "colab": {
          "base_uri": "https://localhost:8080/",
          "height": 335
        },
        "outputId": "6e11cf09-fba2-4a60-ad81-44de6bf3060d"
      },
      "source": [
        "lax_totals = lax_states[['state', 'totals']].sort_values(by = 'totals', ascending = False)\n",
        "lax_totals"
      ],
      "execution_count": 10,
      "outputs": [
        {
          "output_type": "execute_result",
          "data": {
            "text/html": [
              "<div>\n",
              "<style scoped>\n",
              "    .dataframe tbody tr th:only-of-type {\n",
              "        vertical-align: middle;\n",
              "    }\n",
              "\n",
              "    .dataframe tbody tr th {\n",
              "        vertical-align: top;\n",
              "    }\n",
              "\n",
              "    .dataframe thead th {\n",
              "        text-align: right;\n",
              "    }\n",
              "</style>\n",
              "<table border=\"1\" class=\"dataframe\">\n",
              "  <thead>\n",
              "    <tr style=\"text-align: right;\">\n",
              "      <th></th>\n",
              "      <th>state</th>\n",
              "      <th>totals</th>\n",
              "    </tr>\n",
              "  </thead>\n",
              "  <tbody>\n",
              "    <tr>\n",
              "      <th>18</th>\n",
              "      <td>Kentucky</td>\n",
              "      <td>381411</td>\n",
              "    </tr>\n",
              "    <tr>\n",
              "      <th>47</th>\n",
              "      <td>Utah</td>\n",
              "      <td>77263</td>\n",
              "    </tr>\n",
              "    <tr>\n",
              "      <th>53</th>\n",
              "      <td>Wisconsin</td>\n",
              "      <td>38561</td>\n",
              "    </tr>\n",
              "    <tr>\n",
              "      <th>2</th>\n",
              "      <td>Arizona</td>\n",
              "      <td>30222</td>\n",
              "    </tr>\n",
              "    <tr>\n",
              "      <th>38</th>\n",
              "      <td>Oklahoma</td>\n",
              "      <td>26528</td>\n",
              "    </tr>\n",
              "    <tr>\n",
              "      <th>19</th>\n",
              "      <td>Louisiana</td>\n",
              "      <td>19650</td>\n",
              "    </tr>\n",
              "    <tr>\n",
              "      <th>13</th>\n",
              "      <td>Idaho</td>\n",
              "      <td>16004</td>\n",
              "    </tr>\n",
              "    <tr>\n",
              "      <th>28</th>\n",
              "      <td>Montana</td>\n",
              "      <td>9419</td>\n",
              "    </tr>\n",
              "    <tr>\n",
              "      <th>1</th>\n",
              "      <td>Alaska</td>\n",
              "      <td>6505</td>\n",
              "    </tr>\n",
              "    <tr>\n",
              "      <th>36</th>\n",
              "      <td>North Dakota</td>\n",
              "      <td>5135</td>\n",
              "    </tr>\n",
              "  </tbody>\n",
              "</table>\n",
              "</div>"
            ],
            "text/plain": [
              "           state  totals\n",
              "18      Kentucky  381411\n",
              "47          Utah   77263\n",
              "53     Wisconsin   38561\n",
              "2        Arizona   30222\n",
              "38      Oklahoma   26528\n",
              "19     Louisiana   19650\n",
              "13         Idaho   16004\n",
              "28       Montana    9419\n",
              "1         Alaska    6505\n",
              "36  North Dakota    5135"
            ]
          },
          "metadata": {
            "tags": []
          },
          "execution_count": 10
        }
      ]
    },
    {
      "cell_type": "markdown",
      "metadata": {
        "id": "GZAJeye-vlSE",
        "colab_type": "text"
      },
      "source": [
        "It appears that more people in lax states buy guns than in stricts states. For example, Kentucky performed 266,945 more background checks than California even though  there are over 35 million more people in California than in Kentucky. Utah performed 46,109 more background checks than New York even though there are over 18 million more people in New York than in Utah. \n",
        "*(Population data is as of 2018, Source: US Census Bureau)*"
      ]
    },
    {
      "cell_type": "markdown",
      "metadata": {
        "id": "BxE6MpBkFuv1",
        "colab_type": "text"
      },
      "source": [
        "## Number of permit checks in strict states"
      ]
    },
    {
      "cell_type": "markdown",
      "metadata": {
        "id": "LQYha4g71dQo",
        "colab_type": "text"
      },
      "source": [
        "Although permit checks are not used to estimate sales, below is a look into them out of curiosity."
      ]
    },
    {
      "cell_type": "code",
      "metadata": {
        "id": "LLNsAvLQ3Vod",
        "colab_type": "code",
        "colab": {
          "base_uri": "https://localhost:8080/",
          "height": 335
        },
        "outputId": "43a883b7-7360-42cb-fa11-1fc04b5037ae"
      },
      "source": [
        "strict_permits = strict_states[['state', 'permit']].sort_values(by = 'permit', ascending = False)\n",
        "strict_permits"
      ],
      "execution_count": 11,
      "outputs": [
        {
          "output_type": "execute_result",
          "data": {
            "text/html": [
              "<div>\n",
              "<style scoped>\n",
              "    .dataframe tbody tr th:only-of-type {\n",
              "        vertical-align: middle;\n",
              "    }\n",
              "\n",
              "    .dataframe tbody tr th {\n",
              "        vertical-align: top;\n",
              "    }\n",
              "\n",
              "    .dataframe thead th {\n",
              "        text-align: right;\n",
              "    }\n",
              "</style>\n",
              "<table border=\"1\" class=\"dataframe\">\n",
              "  <thead>\n",
              "    <tr style=\"text-align: right;\">\n",
              "      <th></th>\n",
              "      <th>state</th>\n",
              "      <th>permit</th>\n",
              "    </tr>\n",
              "  </thead>\n",
              "  <tbody>\n",
              "    <tr>\n",
              "      <th>4</th>\n",
              "      <td>California</td>\n",
              "      <td>46004.0</td>\n",
              "    </tr>\n",
              "    <tr>\n",
              "      <th>14</th>\n",
              "      <td>Illinois</td>\n",
              "      <td>14158.0</td>\n",
              "    </tr>\n",
              "    <tr>\n",
              "      <th>23</th>\n",
              "      <td>Massachusetts</td>\n",
              "      <td>10866.0</td>\n",
              "    </tr>\n",
              "    <tr>\n",
              "      <th>6</th>\n",
              "      <td>Connecticut</td>\n",
              "      <td>8167.0</td>\n",
              "    </tr>\n",
              "    <tr>\n",
              "      <th>34</th>\n",
              "      <td>New York</td>\n",
              "      <td>3926.0</td>\n",
              "    </tr>\n",
              "    <tr>\n",
              "      <th>22</th>\n",
              "      <td>Maryland</td>\n",
              "      <td>3839.0</td>\n",
              "    </tr>\n",
              "    <tr>\n",
              "      <th>12</th>\n",
              "      <td>Hawaii</td>\n",
              "      <td>1207.0</td>\n",
              "    </tr>\n",
              "    <tr>\n",
              "      <th>7</th>\n",
              "      <td>Delaware</td>\n",
              "      <td>519.0</td>\n",
              "    </tr>\n",
              "    <tr>\n",
              "      <th>32</th>\n",
              "      <td>New Jersey</td>\n",
              "      <td>0.0</td>\n",
              "    </tr>\n",
              "    <tr>\n",
              "      <th>42</th>\n",
              "      <td>Rhode Island</td>\n",
              "      <td>0.0</td>\n",
              "    </tr>\n",
              "  </tbody>\n",
              "</table>\n",
              "</div>"
            ],
            "text/plain": [
              "            state   permit\n",
              "4      California  46004.0\n",
              "14       Illinois  14158.0\n",
              "23  Massachusetts  10866.0\n",
              "6     Connecticut   8167.0\n",
              "34       New York   3926.0\n",
              "22       Maryland   3839.0\n",
              "12         Hawaii   1207.0\n",
              "7        Delaware    519.0\n",
              "32     New Jersey      0.0\n",
              "42   Rhode Island      0.0"
            ]
          },
          "metadata": {
            "tags": []
          },
          "execution_count": 11
        }
      ]
    },
    {
      "cell_type": "markdown",
      "metadata": {
        "id": "m3wZD9qayg4f",
        "colab_type": "text"
      },
      "source": [
        "New Jersey and Rhode Island performed no permit checks, even though they performed 8,173 and 2,175 total background checks respectively."
      ]
    },
    {
      "cell_type": "markdown",
      "metadata": {
        "id": "BHT5ZcisF_dj",
        "colab_type": "text"
      },
      "source": [
        "## Number of permit checks in lax states"
      ]
    },
    {
      "cell_type": "code",
      "metadata": {
        "id": "NmuViJsH3QW9",
        "colab_type": "code",
        "colab": {
          "base_uri": "https://localhost:8080/",
          "height": 335
        },
        "outputId": "7d9c5110-7ca8-49de-8672-f2cbd492c37b"
      },
      "source": [
        "lax_permits = lax_states[['state', 'permit']].sort_values(by = 'permit', ascending = False)\n",
        "lax_permits"
      ],
      "execution_count": 12,
      "outputs": [
        {
          "output_type": "execute_result",
          "data": {
            "text/html": [
              "<div>\n",
              "<style scoped>\n",
              "    .dataframe tbody tr th:only-of-type {\n",
              "        vertical-align: middle;\n",
              "    }\n",
              "\n",
              "    .dataframe tbody tr th {\n",
              "        vertical-align: top;\n",
              "    }\n",
              "\n",
              "    .dataframe thead th {\n",
              "        text-align: right;\n",
              "    }\n",
              "</style>\n",
              "<table border=\"1\" class=\"dataframe\">\n",
              "  <thead>\n",
              "    <tr style=\"text-align: right;\">\n",
              "      <th></th>\n",
              "      <th>state</th>\n",
              "      <th>permit</th>\n",
              "    </tr>\n",
              "  </thead>\n",
              "  <tbody>\n",
              "    <tr>\n",
              "      <th>18</th>\n",
              "      <td>Kentucky</td>\n",
              "      <td>361715.0</td>\n",
              "    </tr>\n",
              "    <tr>\n",
              "      <th>47</th>\n",
              "      <td>Utah</td>\n",
              "      <td>16689.0</td>\n",
              "    </tr>\n",
              "    <tr>\n",
              "      <th>53</th>\n",
              "      <td>Wisconsin</td>\n",
              "      <td>9159.0</td>\n",
              "    </tr>\n",
              "    <tr>\n",
              "      <th>13</th>\n",
              "      <td>Idaho</td>\n",
              "      <td>6608.0</td>\n",
              "    </tr>\n",
              "    <tr>\n",
              "      <th>2</th>\n",
              "      <td>Arizona</td>\n",
              "      <td>6120.0</td>\n",
              "    </tr>\n",
              "    <tr>\n",
              "      <th>38</th>\n",
              "      <td>Oklahoma</td>\n",
              "      <td>3558.0</td>\n",
              "    </tr>\n",
              "    <tr>\n",
              "      <th>19</th>\n",
              "      <td>Louisiana</td>\n",
              "      <td>2285.0</td>\n",
              "    </tr>\n",
              "    <tr>\n",
              "      <th>28</th>\n",
              "      <td>Montana</td>\n",
              "      <td>1417.0</td>\n",
              "    </tr>\n",
              "    <tr>\n",
              "      <th>36</th>\n",
              "      <td>North Dakota</td>\n",
              "      <td>438.0</td>\n",
              "    </tr>\n",
              "    <tr>\n",
              "      <th>1</th>\n",
              "      <td>Alaska</td>\n",
              "      <td>243.0</td>\n",
              "    </tr>\n",
              "  </tbody>\n",
              "</table>\n",
              "</div>"
            ],
            "text/plain": [
              "           state    permit\n",
              "18      Kentucky  361715.0\n",
              "47          Utah   16689.0\n",
              "53     Wisconsin    9159.0\n",
              "13         Idaho    6608.0\n",
              "2        Arizona    6120.0\n",
              "38      Oklahoma    3558.0\n",
              "19     Louisiana    2285.0\n",
              "28       Montana    1417.0\n",
              "36  North Dakota     438.0\n",
              "1         Alaska     243.0"
            ]
          },
          "metadata": {
            "tags": []
          },
          "execution_count": 12
        }
      ]
    },
    {
      "cell_type": "markdown",
      "metadata": {
        "id": "OCkkk6jCzSDI",
        "colab_type": "text"
      },
      "source": [
        "Kentucky and Utah lead again in the number of permit checks."
      ]
    },
    {
      "cell_type": "markdown",
      "metadata": {
        "id": "yaFapgSPGjTr",
        "colab_type": "text"
      },
      "source": [
        "# Permit Rechecks"
      ]
    },
    {
      "cell_type": "markdown",
      "metadata": {
        "id": "bC6E-9c1Gmdw",
        "colab_type": "text"
      },
      "source": [
        "## States with the greatest number of permit rechecks"
      ]
    },
    {
      "cell_type": "code",
      "metadata": {
        "id": "0CCy6I4Y2ljA",
        "colab_type": "code",
        "colab": {
          "base_uri": "https://localhost:8080/",
          "height": 191
        },
        "outputId": "c528266f-8147-474b-af0c-fc04aaed0890"
      },
      "source": [
        "permit_rechecks = latest_info[['state', 'permit_recheck']].sort_values(by='permit_recheck', ascending = False)\n",
        "permit_rechecks.head(5)"
      ],
      "execution_count": 51,
      "outputs": [
        {
          "output_type": "execute_result",
          "data": {
            "text/html": [
              "<div>\n",
              "<style scoped>\n",
              "    .dataframe tbody tr th:only-of-type {\n",
              "        vertical-align: middle;\n",
              "    }\n",
              "\n",
              "    .dataframe tbody tr th {\n",
              "        vertical-align: top;\n",
              "    }\n",
              "\n",
              "    .dataframe thead th {\n",
              "        text-align: right;\n",
              "    }\n",
              "</style>\n",
              "<table border=\"1\" class=\"dataframe\">\n",
              "  <thead>\n",
              "    <tr style=\"text-align: right;\">\n",
              "      <th></th>\n",
              "      <th>state</th>\n",
              "      <th>permit_recheck</th>\n",
              "    </tr>\n",
              "  </thead>\n",
              "  <tbody>\n",
              "    <tr>\n",
              "      <th>14</th>\n",
              "      <td>Illinois</td>\n",
              "      <td>360461.0</td>\n",
              "    </tr>\n",
              "    <tr>\n",
              "      <th>47</th>\n",
              "      <td>Utah</td>\n",
              "      <td>52805.0</td>\n",
              "    </tr>\n",
              "    <tr>\n",
              "      <th>15</th>\n",
              "      <td>Indiana</td>\n",
              "      <td>33562.0</td>\n",
              "    </tr>\n",
              "    <tr>\n",
              "      <th>25</th>\n",
              "      <td>Minnesota</td>\n",
              "      <td>32947.0</td>\n",
              "    </tr>\n",
              "    <tr>\n",
              "      <th>16</th>\n",
              "      <td>Iowa</td>\n",
              "      <td>7113.0</td>\n",
              "    </tr>\n",
              "  </tbody>\n",
              "</table>\n",
              "</div>"
            ],
            "text/plain": [
              "        state  permit_recheck\n",
              "14   Illinois        360461.0\n",
              "47       Utah         52805.0\n",
              "15    Indiana         33562.0\n",
              "25  Minnesota         32947.0\n",
              "16       Iowa          7113.0"
            ]
          },
          "metadata": {
            "tags": []
          },
          "execution_count": 51
        }
      ]
    },
    {
      "cell_type": "markdown",
      "metadata": {
        "id": "K9DVHGsEggDb",
        "colab_type": "text"
      },
      "source": [
        "Utah is categorized as a state with lax regulation, yet is one of the states that performed the most permit rechecks in April 2019."
      ]
    },
    {
      "cell_type": "markdown",
      "metadata": {
        "id": "Y4Zoou2nGvKW",
        "colab_type": "text"
      },
      "source": [
        "## States with no permit rechecks\n",
        "As shown below, 29 states did not perform permit rechecks in April 2019."
      ]
    },
    {
      "cell_type": "code",
      "metadata": {
        "id": "tLogm76IAhEB",
        "colab_type": "code",
        "colab": {
          "base_uri": "https://localhost:8080/",
          "height": 537
        },
        "outputId": "d4a4f97b-08da-4dce-e553-5fe26ac7d51d"
      },
      "source": [
        "no_checks = permit_rechecks[ permit_rechecks['permit_recheck'] == 0.0]\n",
        "print(no_checks)\n",
        "print('_________________________________')\n",
        "print(no_checks.shape)"
      ],
      "execution_count": 57,
      "outputs": [
        {
          "output_type": "stream",
          "text": [
            "                   state  permit_recheck\n",
            "21       Mariana Islands             0.0\n",
            "8   District of Columbia             0.0\n",
            "9                Florida             0.0\n",
            "44          South Dakota             0.0\n",
            "45             Tennessee             0.0\n",
            "46                 Texas             0.0\n",
            "7               Delaware             0.0\n",
            "48               Vermont             0.0\n",
            "49        Virgin Islands             0.0\n",
            "41           Puerto Rico             0.0\n",
            "5               Colorado             0.0\n",
            "52         West Virginia             0.0\n",
            "4             California             0.0\n",
            "42          Rhode Island             0.0\n",
            "38              Oklahoma             0.0\n",
            "40          Pennsylvania             0.0\n",
            "10               Georgia             0.0\n",
            "22              Maryland             0.0\n",
            "11                  Guam             0.0\n",
            "36          North Dakota             0.0\n",
            "12                Hawaii             0.0\n",
            "33            New Mexico             0.0\n",
            "32            New Jersey             0.0\n",
            "31         New Hampshire             0.0\n",
            "30                Nevada             0.0\n",
            "28               Montana             0.0\n",
            "26           Mississippi             0.0\n",
            "18              Kentucky             0.0\n",
            "27              Missouri             0.0\n",
            "_________________________________\n",
            "(29, 2)\n"
          ],
          "name": "stdout"
        }
      ]
    },
    {
      "cell_type": "markdown",
      "metadata": {
        "id": "GbAyRAQ-hHCr",
        "colab_type": "text"
      },
      "source": [
        "Guns were exchanged in every state in April 2019, yet the above 29 states performed no permit rechecks. These states include Maryland, Rhode Island, Delaware, New Jersey, Hawaii and California which have some of the strictest gun regulation in the country."
      ]
    },
    {
      "cell_type": "markdown",
      "metadata": {
        "id": "BUj7GNsfDPow",
        "colab_type": "text"
      },
      "source": [
        "# Handguns\n",
        "\n",
        "Although the majority of guns owned by Americans are not handguns, handguns are responsible for a disproporational amount of gun deaths."
      ]
    },
    {
      "cell_type": "code",
      "metadata": {
        "id": "uPBQDVjT2u6m",
        "colab_type": "code",
        "colab": {
          "base_uri": "https://localhost:8080/",
          "height": 1628
        },
        "outputId": "aec78312-66c6-4833-cd1f-c29861cbdcc9"
      },
      "source": [
        "handguns = latest_info[['state', 'handgun']].sort_values(by='handgun', ascending = False)\n",
        "handguns"
      ],
      "execution_count": 54,
      "outputs": [
        {
          "output_type": "execute_result",
          "data": {
            "text/html": [
              "<div>\n",
              "<style scoped>\n",
              "    .dataframe tbody tr th:only-of-type {\n",
              "        vertical-align: middle;\n",
              "    }\n",
              "\n",
              "    .dataframe tbody tr th {\n",
              "        vertical-align: top;\n",
              "    }\n",
              "\n",
              "    .dataframe thead th {\n",
              "        text-align: right;\n",
              "    }\n",
              "</style>\n",
              "<table border=\"1\" class=\"dataframe\">\n",
              "  <thead>\n",
              "    <tr style=\"text-align: right;\">\n",
              "      <th></th>\n",
              "      <th>state</th>\n",
              "      <th>handgun</th>\n",
              "    </tr>\n",
              "  </thead>\n",
              "  <tbody>\n",
              "    <tr>\n",
              "      <th>9</th>\n",
              "      <td>Florida</td>\n",
              "      <td>48329.0</td>\n",
              "    </tr>\n",
              "    <tr>\n",
              "      <th>40</th>\n",
              "      <td>Pennsylvania</td>\n",
              "      <td>42418.0</td>\n",
              "    </tr>\n",
              "    <tr>\n",
              "      <th>46</th>\n",
              "      <td>Texas</td>\n",
              "      <td>38994.0</td>\n",
              "    </tr>\n",
              "    <tr>\n",
              "      <th>4</th>\n",
              "      <td>California</td>\n",
              "      <td>37484.0</td>\n",
              "    </tr>\n",
              "    <tr>\n",
              "      <th>37</th>\n",
              "      <td>Ohio</td>\n",
              "      <td>22541.0</td>\n",
              "    </tr>\n",
              "    <tr>\n",
              "      <th>45</th>\n",
              "      <td>Tennessee</td>\n",
              "      <td>21848.0</td>\n",
              "    </tr>\n",
              "    <tr>\n",
              "      <th>14</th>\n",
              "      <td>Illinois</td>\n",
              "      <td>21307.0</td>\n",
              "    </tr>\n",
              "    <tr>\n",
              "      <th>50</th>\n",
              "      <td>Virginia</td>\n",
              "      <td>20270.0</td>\n",
              "    </tr>\n",
              "    <tr>\n",
              "      <th>15</th>\n",
              "      <td>Indiana</td>\n",
              "      <td>18528.0</td>\n",
              "    </tr>\n",
              "    <tr>\n",
              "      <th>51</th>\n",
              "      <td>Washington</td>\n",
              "      <td>17631.0</td>\n",
              "    </tr>\n",
              "    <tr>\n",
              "      <th>5</th>\n",
              "      <td>Colorado</td>\n",
              "      <td>17199.0</td>\n",
              "    </tr>\n",
              "    <tr>\n",
              "      <th>27</th>\n",
              "      <td>Missouri</td>\n",
              "      <td>15972.0</td>\n",
              "    </tr>\n",
              "    <tr>\n",
              "      <th>53</th>\n",
              "      <td>Wisconsin</td>\n",
              "      <td>14617.0</td>\n",
              "    </tr>\n",
              "    <tr>\n",
              "      <th>39</th>\n",
              "      <td>Oregon</td>\n",
              "      <td>13360.0</td>\n",
              "    </tr>\n",
              "    <tr>\n",
              "      <th>2</th>\n",
              "      <td>Arizona</td>\n",
              "      <td>12985.0</td>\n",
              "    </tr>\n",
              "    <tr>\n",
              "      <th>10</th>\n",
              "      <td>Georgia</td>\n",
              "      <td>12049.0</td>\n",
              "    </tr>\n",
              "    <tr>\n",
              "      <th>25</th>\n",
              "      <td>Minnesota</td>\n",
              "      <td>10655.0</td>\n",
              "    </tr>\n",
              "    <tr>\n",
              "      <th>38</th>\n",
              "      <td>Oklahoma</td>\n",
              "      <td>10608.0</td>\n",
              "    </tr>\n",
              "    <tr>\n",
              "      <th>24</th>\n",
              "      <td>Michigan</td>\n",
              "      <td>10368.0</td>\n",
              "    </tr>\n",
              "    <tr>\n",
              "      <th>18</th>\n",
              "      <td>Kentucky</td>\n",
              "      <td>10133.0</td>\n",
              "    </tr>\n",
              "    <tr>\n",
              "      <th>43</th>\n",
              "      <td>South Carolina</td>\n",
              "      <td>9362.0</td>\n",
              "    </tr>\n",
              "    <tr>\n",
              "      <th>19</th>\n",
              "      <td>Louisiana</td>\n",
              "      <td>9196.0</td>\n",
              "    </tr>\n",
              "    <tr>\n",
              "      <th>34</th>\n",
              "      <td>New York</td>\n",
              "      <td>8971.0</td>\n",
              "    </tr>\n",
              "    <tr>\n",
              "      <th>26</th>\n",
              "      <td>Mississippi</td>\n",
              "      <td>7199.0</td>\n",
              "    </tr>\n",
              "    <tr>\n",
              "      <th>0</th>\n",
              "      <td>Alabama</td>\n",
              "      <td>6747.0</td>\n",
              "    </tr>\n",
              "    <tr>\n",
              "      <th>52</th>\n",
              "      <td>West Virginia</td>\n",
              "      <td>5819.0</td>\n",
              "    </tr>\n",
              "    <tr>\n",
              "      <th>33</th>\n",
              "      <td>New Mexico</td>\n",
              "      <td>5808.0</td>\n",
              "    </tr>\n",
              "    <tr>\n",
              "      <th>3</th>\n",
              "      <td>Arkansas</td>\n",
              "      <td>4951.0</td>\n",
              "    </tr>\n",
              "    <tr>\n",
              "      <th>32</th>\n",
              "      <td>New Jersey</td>\n",
              "      <td>4819.0</td>\n",
              "    </tr>\n",
              "    <tr>\n",
              "      <th>6</th>\n",
              "      <td>Connecticut</td>\n",
              "      <td>4775.0</td>\n",
              "    </tr>\n",
              "    <tr>\n",
              "      <th>31</th>\n",
              "      <td>New Hampshire</td>\n",
              "      <td>4747.0</td>\n",
              "    </tr>\n",
              "    <tr>\n",
              "      <th>17</th>\n",
              "      <td>Kansas</td>\n",
              "      <td>4737.0</td>\n",
              "    </tr>\n",
              "    <tr>\n",
              "      <th>30</th>\n",
              "      <td>Nevada</td>\n",
              "      <td>4502.0</td>\n",
              "    </tr>\n",
              "    <tr>\n",
              "      <th>13</th>\n",
              "      <td>Idaho</td>\n",
              "      <td>3865.0</td>\n",
              "    </tr>\n",
              "    <tr>\n",
              "      <th>23</th>\n",
              "      <td>Massachusetts</td>\n",
              "      <td>3846.0</td>\n",
              "    </tr>\n",
              "    <tr>\n",
              "      <th>22</th>\n",
              "      <td>Maryland</td>\n",
              "      <td>3759.0</td>\n",
              "    </tr>\n",
              "    <tr>\n",
              "      <th>47</th>\n",
              "      <td>Utah</td>\n",
              "      <td>3365.0</td>\n",
              "    </tr>\n",
              "    <tr>\n",
              "      <th>20</th>\n",
              "      <td>Maine</td>\n",
              "      <td>3134.0</td>\n",
              "    </tr>\n",
              "    <tr>\n",
              "      <th>28</th>\n",
              "      <td>Montana</td>\n",
              "      <td>2815.0</td>\n",
              "    </tr>\n",
              "    <tr>\n",
              "      <th>1</th>\n",
              "      <td>Alaska</td>\n",
              "      <td>2704.0</td>\n",
              "    </tr>\n",
              "    <tr>\n",
              "      <th>44</th>\n",
              "      <td>South Dakota</td>\n",
              "      <td>2360.0</td>\n",
              "    </tr>\n",
              "    <tr>\n",
              "      <th>41</th>\n",
              "      <td>Puerto Rico</td>\n",
              "      <td>2135.0</td>\n",
              "    </tr>\n",
              "    <tr>\n",
              "      <th>54</th>\n",
              "      <td>Wyoming</td>\n",
              "      <td>1888.0</td>\n",
              "    </tr>\n",
              "    <tr>\n",
              "      <th>36</th>\n",
              "      <td>North Dakota</td>\n",
              "      <td>1743.0</td>\n",
              "    </tr>\n",
              "    <tr>\n",
              "      <th>7</th>\n",
              "      <td>Delaware</td>\n",
              "      <td>1687.0</td>\n",
              "    </tr>\n",
              "    <tr>\n",
              "      <th>48</th>\n",
              "      <td>Vermont</td>\n",
              "      <td>1518.0</td>\n",
              "    </tr>\n",
              "    <tr>\n",
              "      <th>35</th>\n",
              "      <td>North Carolina</td>\n",
              "      <td>1487.0</td>\n",
              "    </tr>\n",
              "    <tr>\n",
              "      <th>42</th>\n",
              "      <td>Rhode Island</td>\n",
              "      <td>995.0</td>\n",
              "    </tr>\n",
              "    <tr>\n",
              "      <th>16</th>\n",
              "      <td>Iowa</td>\n",
              "      <td>200.0</td>\n",
              "    </tr>\n",
              "    <tr>\n",
              "      <th>8</th>\n",
              "      <td>District of Columbia</td>\n",
              "      <td>122.0</td>\n",
              "    </tr>\n",
              "    <tr>\n",
              "      <th>11</th>\n",
              "      <td>Guam</td>\n",
              "      <td>88.0</td>\n",
              "    </tr>\n",
              "    <tr>\n",
              "      <th>29</th>\n",
              "      <td>Nebraska</td>\n",
              "      <td>84.0</td>\n",
              "    </tr>\n",
              "    <tr>\n",
              "      <th>49</th>\n",
              "      <td>Virgin Islands</td>\n",
              "      <td>24.0</td>\n",
              "    </tr>\n",
              "    <tr>\n",
              "      <th>21</th>\n",
              "      <td>Mariana Islands</td>\n",
              "      <td>6.0</td>\n",
              "    </tr>\n",
              "    <tr>\n",
              "      <th>12</th>\n",
              "      <td>Hawaii</td>\n",
              "      <td>0.0</td>\n",
              "    </tr>\n",
              "  </tbody>\n",
              "</table>\n",
              "</div>"
            ],
            "text/plain": [
              "                   state  handgun\n",
              "9                Florida  48329.0\n",
              "40          Pennsylvania  42418.0\n",
              "46                 Texas  38994.0\n",
              "4             California  37484.0\n",
              "37                  Ohio  22541.0\n",
              "45             Tennessee  21848.0\n",
              "14              Illinois  21307.0\n",
              "50              Virginia  20270.0\n",
              "15               Indiana  18528.0\n",
              "51            Washington  17631.0\n",
              "5               Colorado  17199.0\n",
              "27              Missouri  15972.0\n",
              "53             Wisconsin  14617.0\n",
              "39                Oregon  13360.0\n",
              "2                Arizona  12985.0\n",
              "10               Georgia  12049.0\n",
              "25             Minnesota  10655.0\n",
              "38              Oklahoma  10608.0\n",
              "24              Michigan  10368.0\n",
              "18              Kentucky  10133.0\n",
              "43        South Carolina   9362.0\n",
              "19             Louisiana   9196.0\n",
              "34              New York   8971.0\n",
              "26           Mississippi   7199.0\n",
              "0                Alabama   6747.0\n",
              "52         West Virginia   5819.0\n",
              "33            New Mexico   5808.0\n",
              "3               Arkansas   4951.0\n",
              "32            New Jersey   4819.0\n",
              "6            Connecticut   4775.0\n",
              "31         New Hampshire   4747.0\n",
              "17                Kansas   4737.0\n",
              "30                Nevada   4502.0\n",
              "13                 Idaho   3865.0\n",
              "23         Massachusetts   3846.0\n",
              "22              Maryland   3759.0\n",
              "47                  Utah   3365.0\n",
              "20                 Maine   3134.0\n",
              "28               Montana   2815.0\n",
              "1                 Alaska   2704.0\n",
              "44          South Dakota   2360.0\n",
              "41           Puerto Rico   2135.0\n",
              "54               Wyoming   1888.0\n",
              "36          North Dakota   1743.0\n",
              "7               Delaware   1687.0\n",
              "48               Vermont   1518.0\n",
              "35        North Carolina   1487.0\n",
              "42          Rhode Island    995.0\n",
              "16                  Iowa    200.0\n",
              "8   District of Columbia    122.0\n",
              "11                  Guam     88.0\n",
              "29              Nebraska     84.0\n",
              "49        Virgin Islands     24.0\n",
              "21       Mariana Islands      6.0\n",
              "12                Hawaii      0.0"
            ]
          },
          "metadata": {
            "tags": []
          },
          "execution_count": 54
        }
      ]
    },
    {
      "cell_type": "markdown",
      "metadata": {
        "id": "5x3D7uVaDBTU",
        "colab_type": "text"
      },
      "source": [
        "## States with the most handgun background checks April 2019"
      ]
    },
    {
      "cell_type": "code",
      "metadata": {
        "id": "pYSiCMwh2_xS",
        "colab_type": "code",
        "colab": {
          "base_uri": "https://localhost:8080/",
          "height": 191
        },
        "outputId": "5f64f97c-9f93-47ed-cba7-6064fd7555b9"
      },
      "source": [
        "handguns.head(5)"
      ],
      "execution_count": 55,
      "outputs": [
        {
          "output_type": "execute_result",
          "data": {
            "text/html": [
              "<div>\n",
              "<style scoped>\n",
              "    .dataframe tbody tr th:only-of-type {\n",
              "        vertical-align: middle;\n",
              "    }\n",
              "\n",
              "    .dataframe tbody tr th {\n",
              "        vertical-align: top;\n",
              "    }\n",
              "\n",
              "    .dataframe thead th {\n",
              "        text-align: right;\n",
              "    }\n",
              "</style>\n",
              "<table border=\"1\" class=\"dataframe\">\n",
              "  <thead>\n",
              "    <tr style=\"text-align: right;\">\n",
              "      <th></th>\n",
              "      <th>state</th>\n",
              "      <th>handgun</th>\n",
              "    </tr>\n",
              "  </thead>\n",
              "  <tbody>\n",
              "    <tr>\n",
              "      <th>9</th>\n",
              "      <td>Florida</td>\n",
              "      <td>48329.0</td>\n",
              "    </tr>\n",
              "    <tr>\n",
              "      <th>40</th>\n",
              "      <td>Pennsylvania</td>\n",
              "      <td>42418.0</td>\n",
              "    </tr>\n",
              "    <tr>\n",
              "      <th>46</th>\n",
              "      <td>Texas</td>\n",
              "      <td>38994.0</td>\n",
              "    </tr>\n",
              "    <tr>\n",
              "      <th>4</th>\n",
              "      <td>California</td>\n",
              "      <td>37484.0</td>\n",
              "    </tr>\n",
              "    <tr>\n",
              "      <th>37</th>\n",
              "      <td>Ohio</td>\n",
              "      <td>22541.0</td>\n",
              "    </tr>\n",
              "  </tbody>\n",
              "</table>\n",
              "</div>"
            ],
            "text/plain": [
              "           state  handgun\n",
              "9        Florida  48329.0\n",
              "40  Pennsylvania  42418.0\n",
              "46         Texas  38994.0\n",
              "4     California  37484.0\n",
              "37          Ohio  22541.0"
            ]
          },
          "metadata": {
            "tags": []
          },
          "execution_count": 55
        }
      ]
    },
    {
      "cell_type": "markdown",
      "metadata": {
        "id": "ouH6L_a1HgZn",
        "colab_type": "text"
      },
      "source": [
        "California is a state that has relatively strict gun regulation. It appears on the list above due to the size of its population. Texas and Florida also have large populations. All five states have greater than 11 million people, however California has the greatest population and is only fourth on the list."
      ]
    },
    {
      "cell_type": "markdown",
      "metadata": {
        "id": "k_t7p_xTDotV",
        "colab_type": "text"
      },
      "source": [
        "## States with the fewest handgun background checks April 2019"
      ]
    },
    {
      "cell_type": "code",
      "metadata": {
        "id": "9NMxKli_2_8x",
        "colab_type": "code",
        "colab": {
          "base_uri": "https://localhost:8080/",
          "height": 191
        },
        "outputId": "cf461300-a002-4457-a6ac-8088d3a8bb2c"
      },
      "source": [
        "handguns.tail(5)"
      ],
      "execution_count": 56,
      "outputs": [
        {
          "output_type": "execute_result",
          "data": {
            "text/html": [
              "<div>\n",
              "<style scoped>\n",
              "    .dataframe tbody tr th:only-of-type {\n",
              "        vertical-align: middle;\n",
              "    }\n",
              "\n",
              "    .dataframe tbody tr th {\n",
              "        vertical-align: top;\n",
              "    }\n",
              "\n",
              "    .dataframe thead th {\n",
              "        text-align: right;\n",
              "    }\n",
              "</style>\n",
              "<table border=\"1\" class=\"dataframe\">\n",
              "  <thead>\n",
              "    <tr style=\"text-align: right;\">\n",
              "      <th></th>\n",
              "      <th>state</th>\n",
              "      <th>handgun</th>\n",
              "    </tr>\n",
              "  </thead>\n",
              "  <tbody>\n",
              "    <tr>\n",
              "      <th>11</th>\n",
              "      <td>Guam</td>\n",
              "      <td>88.0</td>\n",
              "    </tr>\n",
              "    <tr>\n",
              "      <th>29</th>\n",
              "      <td>Nebraska</td>\n",
              "      <td>84.0</td>\n",
              "    </tr>\n",
              "    <tr>\n",
              "      <th>49</th>\n",
              "      <td>Virgin Islands</td>\n",
              "      <td>24.0</td>\n",
              "    </tr>\n",
              "    <tr>\n",
              "      <th>21</th>\n",
              "      <td>Mariana Islands</td>\n",
              "      <td>6.0</td>\n",
              "    </tr>\n",
              "    <tr>\n",
              "      <th>12</th>\n",
              "      <td>Hawaii</td>\n",
              "      <td>0.0</td>\n",
              "    </tr>\n",
              "  </tbody>\n",
              "</table>\n",
              "</div>"
            ],
            "text/plain": [
              "              state  handgun\n",
              "11             Guam     88.0\n",
              "29         Nebraska     84.0\n",
              "49   Virgin Islands     24.0\n",
              "21  Mariana Islands      6.0\n",
              "12           Hawaii      0.0"
            ]
          },
          "metadata": {
            "tags": []
          },
          "execution_count": 56
        }
      ]
    },
    {
      "cell_type": "markdown",
      "metadata": {
        "id": "mq37j9OCyVhY",
        "colab_type": "text"
      },
      "source": [
        "All of these states/territories have small populations, which is most likely the reason why they have the fewest handgun background checks. However, it is important to remember that Hawaii has strict gun regulation. Evidence of prior saftey training is required to acquire a permit for a handgun in Hawaii *(Source: Hawaii Rifle Association)*."
      ]
    },
    {
      "cell_type": "markdown",
      "metadata": {
        "id": "ybAihfoxHyiJ",
        "colab_type": "text"
      },
      "source": [
        "# Gun deaths per capita"
      ]
    },
    {
      "cell_type": "markdown",
      "metadata": {
        "id": "3JU3dJspzuQ1",
        "colab_type": "text"
      },
      "source": [
        "This section tracks the monthly gun background check totals and gun permit checks over time for the state with the lowest and highest per capita gun deaths *(Source: National Center for Injury Prevention and Control within CDC)*."
      ]
    },
    {
      "cell_type": "markdown",
      "metadata": {
        "id": "3yl0qHndH6LM",
        "colab_type": "text"
      },
      "source": [
        "## State with lowest per capita gun deaths: Massachusetts"
      ]
    },
    {
      "cell_type": "markdown",
      "metadata": {
        "id": "sjXu5RyInt3Q",
        "colab_type": "text"
      },
      "source": [
        "### Monthly total gun background checks"
      ]
    },
    {
      "cell_type": "code",
      "metadata": {
        "id": "837Tng5t20vl",
        "colab_type": "code",
        "colab": {
          "base_uri": "https://localhost:8080/",
          "height": 300
        },
        "outputId": "5454c301-4546-475b-88b9-26ad773d0485"
      },
      "source": [
        "only_mass = prod[ prod['state'] == 'Massachusetts']\n",
        "mass_over_time = only_mass[['month','state', 'totals']].sort_values(by = 'month', ascending = True)\n",
        "#print(mass_over_time)\n",
        "ax = plt.gca()\n",
        "\n",
        "mass_over_time.plot(kind='line',x='month',y='totals', color='green', ax=ax)\n",
        "\n",
        "plt.show()\n",
        "plt.savefig('output.png')"
      ],
      "execution_count": 21,
      "outputs": [
        {
          "output_type": "display_data",
          "data": {
            "image/png": "[encoded data removed]",
            "text/plain": [
              "<Figure size 432x288 with 1 Axes>"
            ]
          },
          "metadata": {
            "tags": []
          }
        },
        {
          "output_type": "display_data",
          "data": {
            "text/plain": [
              "<Figure size 432x288 with 0 Axes>"
            ]
          },
          "metadata": {
            "tags": []
          }
        }
      ]
    },
    {
      "cell_type": "markdown",
      "metadata": {
        "id": "8kJ7fbpwhXb1",
        "colab_type": "text"
      },
      "source": [
        "In 1998, Massachusetts enacted 23 gun laws to decrease gun violence deaths. A study published in the academic journal *Economic Letters* in 2019 , writes that the laws decreased successful suicide rates in that state. However, it appears that the monthly totals are increasing."
      ]
    },
    {
      "cell_type": "markdown",
      "metadata": {
        "id": "MP90dHdzn0-z",
        "colab_type": "text"
      },
      "source": [
        "### Monthly gun permit checks"
      ]
    },
    {
      "cell_type": "markdown",
      "metadata": {
        "id": "uNhoZrpLjdsZ",
        "colab_type": "text"
      },
      "source": [
        "The graph below shows the number of permits issued over time. The amount of permits per month has been fluctuating for the last two decades."
      ]
    },
    {
      "cell_type": "code",
      "metadata": {
        "id": "ZrO0gZqOi7hr",
        "colab_type": "code",
        "colab": {
          "base_uri": "https://localhost:8080/",
          "height": 300
        },
        "outputId": "068e775f-a22c-46ff-8c03-aaaa60bcf72a"
      },
      "source": [
        "ax = plt.gca()\n",
        "\n",
        "mass_permit_over_time = only_mass[['month','state', 'permit']].sort_values(by = 'month', ascending = True)\n",
        "\n",
        "mass_permit_over_time.plot(kind='line',x='month',y='permit', color='green', ax=ax)\n",
        "\n",
        "plt.show()\n",
        "plt.savefig('output.png')"
      ],
      "execution_count": 33,
      "outputs": [
        {
          "output_type": "display_data",
          "data": {
            "image/png": "[encoded data removed]",
            "text/plain": [
              "<Figure size 432x288 with 1 Axes>"
            ]
          },
          "metadata": {
            "tags": []
          }
        },
        {
          "output_type": "display_data",
          "data": {
            "text/plain": [
              "<Figure size 432x288 with 0 Axes>"
            ]
          },
          "metadata": {
            "tags": []
          }
        }
      ]
    },
    {
      "cell_type": "markdown",
      "metadata": {
        "id": "HuwqNJ8UIE5G",
        "colab_type": "text"
      },
      "source": [
        "## State with the highest per capita gun deaths: Alaska"
      ]
    },
    {
      "cell_type": "markdown",
      "metadata": {
        "id": "gfRSuDzGngpr",
        "colab_type": "text"
      },
      "source": [
        "### Monthly total gun background checks\n",
        "\n"
      ]
    },
    {
      "cell_type": "code",
      "metadata": {
        "id": "I70TWdUE2797",
        "colab_type": "code",
        "colab": {
          "base_uri": "https://localhost:8080/",
          "height": 300
        },
        "outputId": "c8078ce2-25d0-44f2-fcd7-040b23e9d785"
      },
      "source": [
        "only_alaska = prod[ prod['state'] == 'Alaska']\n",
        "alaska_over_time = only_alaska[['month','state', 'totals']].sort_values(by = 'month', ascending = True)\n",
        "#print(alaska_over_time)\n",
        "\n",
        "ax = plt.gca()\n",
        "\n",
        "alaska_over_time.plot(kind='line',x='month',y='totals', color='blue', ax=ax)\n",
        "\n",
        "plt.show()\n",
        "plt.savefig('output.png')"
      ],
      "execution_count": 22,
      "outputs": [
        {
          "output_type": "display_data",
          "data": {
            "image/png": "[encoded data removed]",
            "text/plain": [
              "<Figure size 432x288 with 1 Axes>"
            ]
          },
          "metadata": {
            "tags": []
          }
        },
        {
          "output_type": "display_data",
          "data": {
            "text/plain": [
              "<Figure size 432x288 with 0 Axes>"
            ]
          },
          "metadata": {
            "tags": []
          }
        }
      ]
    },
    {
      "cell_type": "markdown",
      "metadata": {
        "id": "bSqLsXXEnmo8",
        "colab_type": "text"
      },
      "source": [
        "### Monthly gun permit checks"
      ]
    },
    {
      "cell_type": "code",
      "metadata": {
        "id": "HgYLE_GykC3G",
        "colab_type": "code",
        "colab": {
          "base_uri": "https://localhost:8080/",
          "height": 300
        },
        "outputId": "2215815a-fd55-40e6-ad86-d6c7b3b52746"
      },
      "source": [
        "ax = plt.gca()\n",
        "\n",
        "alaska_permit_over_time = only_alaska[['month','state', 'permit']].sort_values(by = 'month', ascending = True)\n",
        "\n",
        "alaska_permit_over_time.plot(kind='line',x='month',y='permit', color='blue', ax=ax)\n",
        "\n",
        "plt.show()\n",
        "plt.savefig('output.png')"
      ],
      "execution_count": 34,
      "outputs": [
        {
          "output_type": "display_data",
          "data": {
            "image/png": "[encoded data removed]",
            "text/plain": [
              "<Figure size 432x288 with 1 Axes>"
            ]
          },
          "metadata": {
            "tags": []
          }
        },
        {
          "output_type": "display_data",
          "data": {
            "text/plain": [
              "<Figure size 432x288 with 0 Axes>"
            ]
          },
          "metadata": {
            "tags": []
          }
        }
      ]
    },
    {
      "cell_type": "markdown",
      "metadata": {
        "id": "__Tqm_EfkzKJ",
        "colab_type": "text"
      },
      "source": [
        "The increase in total gun background checks began increasing before the surge in the number of permits checked. It is possible that the guns exchanged before the surge were exchanged without permits. It is also possible that regulations changed."
      ]
    },
    {
      "cell_type": "markdown",
      "metadata": {
        "id": "zgPA7CPNoA9v",
        "colab_type": "text"
      },
      "source": [
        "# Conclusion"
      ]
    },
    {
      "cell_type": "markdown",
      "metadata": {
        "id": "kdgvtkM9liGg",
        "colab_type": "text"
      },
      "source": [
        "This brings us to some of the major issues with using this set of data in isolation: \n",
        "\n",
        "1. A one-to-one correlation cannot be made between firearm background checks and the sale of firearms, however, background checks are often used as a proxy for sales. Out of 230 million background checks, 1.3 million have been denied, or about 0.56% *(Source: fbi.gov)*.\n",
        "\n",
        "2. It only captures the legal gun market.\n",
        "\n",
        "3. It only captures guns sold by licensed dealers. Because of the Gun Control Act of 1968, federal law does not require private dealers to conduct background checks. Therefore, those sales would not be in this database.\n",
        "\n",
        "4. It does not capture guns sold at gun shows where dealers can sell to individuals without permits/licenses (state legislation can override this, and does so in the states with strict regulation).\n",
        "\n",
        "5. The data set gives a look into monthly changes and totals, but not overall totals in each state and nationwide.\n",
        "\n",
        "6. Per capita comparisons are more effective because they compensate for the large differences in state populations. For example, California has over 36 million more people than Alaska."
      ]
    }
  ]
}